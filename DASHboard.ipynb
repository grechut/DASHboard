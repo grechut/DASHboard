{
 "cells": [
  {
   "cell_type": "markdown",
   "metadata": {},
   "source": [
    "# DASHboard\n",
    "quick, cheap, beautiful, healthy workshop"
   ]
  },
  {
   "cell_type": "markdown",
   "metadata": {},
   "source": [
    "## What is a dashboard?"
   ]
  },
  {
   "cell_type": "markdown",
   "metadata": {},
   "source": [
    "### Carriage dashboard\n",
    "\n",
    "![Carriage dashboard](images/carriagedashboard.jpg)\n",
    "> https://sla.talkbank.org/tours/carriagedashboard.jpg"
   ]
  },
  {
   "cell_type": "markdown",
   "metadata": {},
   "source": [
    "### Car dashboard\n",
    "\n",
    "![Car dashboard](images/cardashboard.jpg)\n",
    "> https://image.cpsimg.com/sites/carparts-mc/assets/classroom/images/dash_gauges.jpg"
   ]
  },
  {
   "cell_type": "markdown",
   "metadata": {},
   "source": [
    "### Business dashboard\n",
    "\n",
    "![Business dashboard](images/businessdashboard.png)\n",
    "> http://www.byteorigin.com/wp-content/uploads/2016/07/206531097.png"
   ]
  },
  {
   "cell_type": "markdown",
   "metadata": {},
   "source": [
    "## Why to build a dashboard?\n",
    "\n",
    "- Good overview on important data\n",
    "- No need to visit multiple places\n",
    "- Quick identification of problems - being able to react on time\n",
    "- Discovering insights from data\n",
    "- Ability to share results easily (reports)"
   ]
  },
  {
   "cell_type": "markdown",
   "metadata": {},
   "source": [
    "## How to build a dashboard?"
   ]
  },
  {
   "cell_type": "markdown",
   "metadata": {},
   "source": [
    "### Understand needs\n",
    "\n",
    "- Understand data\n",
    "    - Ask right questions\n",
    "    - KPIs (Key Performance Indicators)\n",
    "- Audience\n",
    "    - Strategical\n",
    "    - Analytical (lot of interaction)"
   ]
  },
  {
   "cell_type": "markdown",
   "metadata": {},
   "source": [
    "### Design\n",
    "\n",
    "- Make it simple\n",
    "    - Speak user's language\n",
    "    - Minimize distracitons\n",
    "    - Narrow down filters and metrics to the ones that will have impact\n",
    "    - Make every pixel count `data_ink_ratio = pixels_presenting_data / total_pixels`\n",
    "- Choose right visualizations\n",
    "    - For example: 3D pie charts for 2D data is just bad... Bar is much easier to compare\n",
    "- Make data actionable\n",
    "    - Provide enough context"
   ]
  },
  {
   "cell_type": "markdown",
   "metadata": {},
   "source": [
    "### Tools\n",
    "\n",
    "- Excel-like software\n",
    "- Custom webapp\n",
    "- Custom desktop widget\n",
    "- Many \"out of the box solutions\"\n",
    "- ...\n",
    "- Dash"
   ]
  },
  {
   "cell_type": "markdown",
   "metadata": {},
   "source": [
    "## More\n",
    "- https://en.wikipedia.org/wiki/Dashboard\n",
    "- https://en.wikipedia.org/wiki/Dashboard_(business)\n",
    "- https://www.youtube.com/watch?v=RtKDSfWFQIA"
   ]
  },
  {
   "cell_type": "markdown",
   "metadata": {},
   "source": [
    "# Gapminder\n",
    "\n",
    "Dashboard we are building\n",
    "\n",
    "## Inspiration\n",
    "\n",
    "https://www.youtube.com/watch?v=hVimVzgtD6w\n",
    "\n",
    "## Tool\n",
    "\n",
    "https://www.gapminder.org/tools/"
   ]
  },
  {
   "cell_type": "markdown",
   "metadata": {},
   "source": [
    "# Data for dashboard"
   ]
  },
  {
   "cell_type": "markdown",
   "metadata": {},
   "source": [
    "## Pandas\n",
    "\n",
    "http://pandas.pydata.org/"
   ]
  },
  {
   "cell_type": "code",
   "execution_count": null,
   "metadata": {},
   "outputs": [],
   "source": [
    "import pandas as pd"
   ]
  },
  {
   "cell_type": "code",
   "execution_count": null,
   "metadata": {},
   "outputs": [],
   "source": [
    "countries = pd.Series(['Argentina', 'Austria', 'Australia'])\n",
    "countries"
   ]
  },
  {
   "cell_type": "code",
   "execution_count": null,
   "metadata": {},
   "outputs": [],
   "source": [
    "dataset = pd.DataFrame({\n",
    "    'country': ['Argentina', 'Austria', 'Australia'],\n",
    "    'population': [43e6, 8e6, 24e6],\n",
    "})\n",
    "dataset"
   ]
  },
  {
   "cell_type": "code",
   "execution_count": null,
   "metadata": {},
   "outputs": [],
   "source": [
    "dataset.info()"
   ]
  },
  {
   "cell_type": "code",
   "execution_count": null,
   "metadata": {},
   "outputs": [],
   "source": [
    "dataset.describe()"
   ]
  },
  {
   "cell_type": "code",
   "execution_count": null,
   "metadata": {},
   "outputs": [],
   "source": [
    "dataset.head(2)"
   ]
  },
  {
   "cell_type": "code",
   "execution_count": null,
   "metadata": {},
   "outputs": [],
   "source": [
    "dataset['population']"
   ]
  },
  {
   "cell_type": "code",
   "execution_count": null,
   "metadata": {},
   "outputs": [],
   "source": [
    "dataset[ ['population'] ]"
   ]
  },
  {
   "cell_type": "code",
   "execution_count": null,
   "metadata": {},
   "outputs": [],
   "source": [
    "dataset['population'].values"
   ]
  },
  {
   "cell_type": "code",
   "execution_count": null,
   "metadata": {},
   "outputs": [],
   "source": [
    "dataset['population'].tolist()"
   ]
  },
  {
   "cell_type": "markdown",
   "metadata": {},
   "source": [
    "...however many things in Python ecosystem consume Series as if you passed list/np.array. Casting happens underhood."
   ]
  },
  {
   "cell_type": "code",
   "execution_count": null,
   "metadata": {},
   "outputs": [],
   "source": [
    "dataset.loc[0]"
   ]
  },
  {
   "cell_type": "code",
   "execution_count": null,
   "metadata": {},
   "outputs": [],
   "source": [
    "dataset.loc[0, 'population']"
   ]
  },
  {
   "cell_type": "code",
   "execution_count": null,
   "metadata": {},
   "outputs": [],
   "source": [
    "country_indexed_dataset = dataset.set_index('country')\n",
    "country_indexed_dataset"
   ]
  },
  {
   "cell_type": "code",
   "execution_count": null,
   "metadata": {},
   "outputs": [],
   "source": [
    "country_indexed_dataset.index"
   ]
  },
  {
   "cell_type": "code",
   "execution_count": null,
   "metadata": {},
   "outputs": [],
   "source": [
    "country_indexed_dataset.loc['Austria']"
   ]
  },
  {
   "cell_type": "markdown",
   "metadata": {},
   "source": [
    "### More\n",
    "\n",
    "https://github.com/Nozdi/first-steps-with-pandas-workshop"
   ]
  },
  {
   "cell_type": "markdown",
   "metadata": {},
   "source": [
    "## Data"
   ]
  },
  {
   "cell_type": "code",
   "execution_count": null,
   "metadata": {},
   "outputs": [],
   "source": [
    "from gapminder.data import (\n",
    "    get_config,\n",
    "    load_data,\n",
    ")"
   ]
  },
  {
   "cell_type": "code",
   "execution_count": null,
   "metadata": {},
   "outputs": [],
   "source": [
    "data = load_data()\n",
    "data.keys()"
   ]
  },
  {
   "cell_type": "code",
   "execution_count": null,
   "metadata": {},
   "outputs": [],
   "source": [
    "data['Population density (per square km)'].head()"
   ]
  },
  {
   "cell_type": "code",
   "execution_count": null,
   "metadata": {},
   "outputs": [],
   "source": [
    "data['Population density (per square km)'].describe()"
   ]
  },
  {
   "cell_type": "code",
   "execution_count": null,
   "metadata": {
    "scrolled": true
   },
   "outputs": [],
   "source": [
    "data['Population density (per square km)']['2000'].head()"
   ]
  },
  {
   "cell_type": "markdown",
   "metadata": {},
   "source": [
    "### Bonus quiz\n",
    "\n",
    "On which continent is situated `Akrotiri and Dhekelia`?"
   ]
  },
  {
   "cell_type": "code",
   "execution_count": null,
   "metadata": {},
   "outputs": [],
   "source": [
    "(\n",
    "    data['Population density (per square km)']['2000']\n",
    "    .dropna()\n",
    "    .head(10)\n",
    ")"
   ]
  },
  {
   "cell_type": "code",
   "execution_count": null,
   "metadata": {},
   "outputs": [],
   "source": [
    "X_AXIS = \"Life expectancy\"\n",
    "Y_AXIS = \"GDP per capita\"\n",
    "\n",
    "conf = get_config(data, x_axis=X_AXIS, y_axis=Y_AXIS)\n",
    "\n",
    "conf"
   ]
  },
  {
   "cell_type": "code",
   "execution_count": null,
   "metadata": {},
   "outputs": [],
   "source": [
    "get_config?"
   ]
  },
  {
   "cell_type": "code",
   "execution_count": null,
   "metadata": {},
   "outputs": [],
   "source": [
    "conf.keys()"
   ]
  },
  {
   "cell_type": "markdown",
   "metadata": {},
   "source": [
    "### Keys Cheatsheet\n",
    "\n",
    "- *countries* - countries that we are going to handle on dashboard\n",
    "- *years* - interesction of years available in x_df, y_df, z_df\n",
    "- *x_df* - DataFrame to be used for x dimension\n",
    "- *y_df* - DataFrame to be used for y dimension\n",
    "- *z_df* - DataFrame to be used for z dimension. We do not do 3D charts. Z dimension can be.. bubble size"
   ]
  },
  {
   "cell_type": "code",
   "execution_count": null,
   "metadata": {},
   "outputs": [],
   "source": [
    "conf['y_df'].head()"
   ]
  },
  {
   "cell_type": "markdown",
   "metadata": {},
   "source": [
    "## Exercises"
   ]
  },
  {
   "cell_type": "markdown",
   "metadata": {},
   "source": [
    "Get config for:\n",
    "\n",
    "    x - life expectancy\n",
    "    y - murder rate per 100000 ppl\n",
    "    \n",
    "and access life expectancy of Japanese people in 2000 from that config"
   ]
  },
  {
   "cell_type": "code",
   "execution_count": null,
   "metadata": {},
   "outputs": [],
   "source": [
    "# Here solution"
   ]
  },
  {
   "cell_type": "markdown",
   "metadata": {},
   "source": [
    "# First graphs\n",
    "\n",
    "Plotly: https://plot.ly/python/getting-started/"
   ]
  },
  {
   "cell_type": "code",
   "execution_count": null,
   "metadata": {},
   "outputs": [],
   "source": [
    "import plotly\n",
    "import plotly.graph_objs as go"
   ]
  },
  {
   "cell_type": "code",
   "execution_count": null,
   "metadata": {},
   "outputs": [],
   "source": [
    "plotly.offline.plot({\n",
    "    'data': [\n",
    "        go.Bar(\n",
    "#             x=['Australia', 'Austria'],\n",
    "#             y=[24e6, 8e6]\n",
    "        )\n",
    "    ],\n",
    "    'layout': {}\n",
    "})"
   ]
  },
  {
   "cell_type": "code",
   "execution_count": null,
   "metadata": {},
   "outputs": [],
   "source": [
    "# We can do plots inline\n",
    "\n",
    "plotly.offline.init_notebook_mode(connected=True)"
   ]
  },
  {
   "cell_type": "code",
   "execution_count": null,
   "metadata": {},
   "outputs": [],
   "source": [
    "plotly.offline.iplot({\n",
    "    'data': [\n",
    "        go.Bar(\n",
    "            x=['Australia', 'Austria'],\n",
    "            y=[24e6, 8e6]\n",
    "        )\n",
    "    ],\n",
    "    'layout': {}\n",
    "})"
   ]
  },
  {
   "cell_type": "code",
   "execution_count": null,
   "metadata": {},
   "outputs": [],
   "source": [
    "# Different GraphObjects can be mixed\n",
    "\n",
    "plotly.offline.iplot({\n",
    "    'data': [\n",
    "        go.Bar(\n",
    "            x=['Australia', 'Austria'],\n",
    "            y=[24e6, 8e6]\n",
    "        ),\n",
    "        go.Scatter(\n",
    "            x=['Argentina', 'Austria'],\n",
    "            y=[43e6, 8e6]\n",
    "        )\n",
    "    ],\n",
    "    'layout': {}\n",
    "})"
   ]
  },
  {
   "cell_type": "code",
   "execution_count": null,
   "metadata": {},
   "outputs": [],
   "source": [
    "# How to style dot differently\n",
    "\n",
    "plotly.offline.iplot({\n",
    "    'data': [\n",
    "        go.Scatter(\n",
    "            x=['Argentina'],\n",
    "            y=[43e6],\n",
    "#             marker={\n",
    "#                 'color': 'blue',\n",
    "#                 'size': 100,\n",
    "#             },\n",
    "#             name='Argentina'\n",
    "        ),\n",
    "        go.Scatter(\n",
    "            x=['Austria'],\n",
    "            y=[8e6],\n",
    "#             marker={\n",
    "#                 'color': 'red',\n",
    "#                 'size': 40,\n",
    "#                 'opacity': 0.2,\n",
    "#             },\n",
    "#             name='Austria'\n",
    "        )\n",
    "    ],\n",
    "    'layout': {\n",
    "#         'showlegend': False\n",
    "    }\n",
    "})"
   ]
  },
  {
   "cell_type": "code",
   "execution_count": null,
   "metadata": {},
   "outputs": [],
   "source": [
    "# How to use DataFrame\n",
    "\n",
    "plotly.offline.iplot({\n",
    "    'data': [\n",
    "        go.Scatter(\n",
    "            x=conf['x_df']['2000'],\n",
    "            y=conf['y_df']['2000'],\n",
    "#             mode='markers'\n",
    "        )\n",
    "    ],\n",
    "    'layout': {\n",
    "#         'title': 'GDP per capita over life expectancy',\n",
    "#         'xaxis': {\n",
    "#             'title': 'Life expectancy',\n",
    "#             'titlefont': {\n",
    "#                 'size': 30\n",
    "#             }\n",
    "#         },\n",
    "#         'width': 500\n",
    "    }\n",
    "})"
   ]
  },
  {
   "cell_type": "code",
   "execution_count": null,
   "metadata": {},
   "outputs": [],
   "source": [
    "# Index can be also used as data\n",
    "\n",
    "plotly.offline.iplot({\n",
    "    'data': [\n",
    "        go.Bar(\n",
    "            x=conf['y_df']['2000'].loc[['China', 'India', 'Poland']].index,\n",
    "            y=conf['y_df']['2000'].loc[['China', 'India', 'Poland']],\n",
    "        )\n",
    "    ],\n",
    "})"
   ]
  },
  {
   "cell_type": "markdown",
   "metadata": {},
   "source": [
    "## More\n",
    "\n",
    "- https://plot.ly/python/reference/#scatter\n",
    "- https://plot.ly/python/reference/#layout"
   ]
  },
  {
   "cell_type": "markdown",
   "metadata": {},
   "source": [
    "## Exercise\n",
    "\n",
    "Reuse config about life expectancy and murder rate from previous exercise and plot (scatter) data for last year available in config.\n",
    "\n",
    "Play around with customization."
   ]
  },
  {
   "cell_type": "code",
   "execution_count": null,
   "metadata": {},
   "outputs": [],
   "source": [
    "# Here solution"
   ]
  },
  {
   "cell_type": "markdown",
   "metadata": {},
   "source": [
    "# Dash and its components\n",
    "\n",
    "Go to `theory_1.py`, then `app_1.py`"
   ]
  },
  {
   "cell_type": "markdown",
   "metadata": {},
   "source": [
    "# Callbacks\n",
    "\n",
    "Go to `theory_2.py`, then `app_2.py`"
   ]
  },
  {
   "cell_type": "markdown",
   "metadata": {},
   "source": [
    "# Advanced stuff\n",
    "\n",
    "Go to `theory_3.py`, then `app_3.py`"
   ]
  },
  {
   "cell_type": "markdown",
   "metadata": {},
   "source": [
    "# Finish\n",
    "\n",
    "## Feedback\n",
    "\n",
    "- `mateuszflieger at gmail com`\n",
    "- `rzeszutekjacek at gmail com`\n",
    "\n",
    "## Interesting facts\n",
    "- https://www.random.org/coins/?num=1&cur=60-usd.5000c-gold-buffalo"
   ]
  },
  {
   "cell_type": "code",
   "execution_count": null,
   "metadata": {},
   "outputs": [],
   "source": []
  }
 ],
 "metadata": {
  "kernelspec": {
   "display_name": "Python 3",
   "language": "python",
   "name": "python3"
  },
  "language_info": {
   "codemirror_mode": {
    "name": "ipython",
    "version": 3
   },
   "file_extension": ".py",
   "mimetype": "text/x-python",
   "name": "python",
   "nbconvert_exporter": "python",
   "pygments_lexer": "ipython3",
   "version": "3.6.5"
  }
 },
 "nbformat": 4,
 "nbformat_minor": 2
}
