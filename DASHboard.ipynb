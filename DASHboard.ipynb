{
 "cells": [
  {
   "cell_type": "markdown",
   "metadata": {},
   "source": [
    "# DASHboard\n",
    "quick, cheap, beautiful, healthy workshop"
   ]
  },
  {
   "cell_type": "markdown",
   "metadata": {},
   "source": [
    "### What is a dashboard?"
   ]
  },
  {
   "cell_type": "markdown",
   "metadata": {},
   "source": [
    "#### Carriage dashboard\n",
    "\n",
    "![Carriage dashboard](images/carriagedashboard.jpg)\n",
    "> https://sla.talkbank.org/tours/carriagedashboard.jpg"
   ]
  },
  {
   "cell_type": "markdown",
   "metadata": {},
   "source": [
    "#### Car dashboard\n",
    "\n",
    "![Car dashboard](images/cardashboard.jpg)\n",
    "> https://image.cpsimg.com/sites/carparts-mc/assets/classroom/images/dash_gauges.jpg"
   ]
  },
  {
   "cell_type": "markdown",
   "metadata": {},
   "source": [
    "#### Business dashboard\n",
    "\n",
    "![Business dashboard](images/businessdashboard.png)\n",
    "> http://www.byteorigin.com/wp-content/uploads/2016/07/206531097.png"
   ]
  },
  {
   "cell_type": "markdown",
   "metadata": {},
   "source": [
    "### Why to build a dashboard?\n",
    "\n",
    "- Good overview on important data\n",
    "- No need to visit multiple places\n",
    "- Quick identification of problems - being able to react on time\n",
    "- Discovering insights from data\n",
    "- Ability to share results easily (reports)"
   ]
  },
  {
   "cell_type": "markdown",
   "metadata": {},
   "source": [
    "### How to build a dashboard?"
   ]
  },
  {
   "cell_type": "markdown",
   "metadata": {},
   "source": [
    "#### Understand needs\n",
    "\n",
    "- Understand data\n",
    "    - Ask right questions\n",
    "    - KPIs (Key Performance Indicators)\n",
    "- Audience\n",
    "    - Strategical\n",
    "    - Analytical (lot of interaction)"
   ]
  },
  {
   "cell_type": "markdown",
   "metadata": {},
   "source": [
    "#### Design\n",
    "\n",
    "- Make it simple\n",
    "    - Speak user's language\n",
    "    - Minimize distracitons\n",
    "    - Narrow down filters and metrics to the ones that will have impact\n",
    "    - Make every pixel count `data_ink_ratio = pixels_presenting_data / total_pixels`\n",
    "- Choose right visualizations\n",
    "    - For example: 3D pie charts for 2D data is just bad... Bar is much easier to compare\n",
    "- Make data actionable\n",
    "    - Provide enough context"
   ]
  },
  {
   "cell_type": "markdown",
   "metadata": {},
   "source": [
    "#### Tools\n",
    "\n",
    "- Excel-like software\n",
    "- Custom webapp\n",
    "- Custom desktop widget\n",
    "- Many \"out of the box solutions\"\n",
    "- ...\n",
    "- Dash"
   ]
  },
  {
   "cell_type": "markdown",
   "metadata": {},
   "source": [
    "#### Bibliography\n",
    "- https://en.wikipedia.org/wiki/Dashboard\n",
    "- https://en.wikipedia.org/wiki/Dashboard_(business)\n",
    "- https://www.youtube.com/watch?v=RtKDSfWFQIA"
   ]
  },
  {
   "cell_type": "markdown",
   "metadata": {},
   "source": [
    "# Gapminder\n",
    "\n",
    "1. https://www.youtube.com/watch?v=hVimVzgtD6w\n",
    "2. https://www.gapminder.org/tools/\n",
    "3. Demo `Poor man's Gapminder`"
   ]
  },
  {
   "cell_type": "markdown",
   "metadata": {},
   "source": [
    "# Data\n",
    "\n",
    "1. Pandas\n",
    "2. What we have inside `data.py` and how to use it\n",
    "\n",
    "Exercise: Get Population of countries in 2000. Get population of Poland.\n",
    "\n",
    "Materials:\n",
    "- https://github.com/Nozdi/first-steps-with-pandas-workshop"
   ]
  },
  {
   "cell_type": "markdown",
   "metadata": {},
   "source": [
    "# First graph\n",
    "\n",
    "1. Plotly\n",
    "\n",
    "Exercise: Display Popualation against GDP in 2000\n",
    "\n",
    "Materials:\n",
    "- https://plot.ly/python/getting-started/"
   ]
  },
  {
   "cell_type": "markdown",
   "metadata": {},
   "source": [
    "# Dash and its components\n",
    "\n",
    "1. Dash, Dash Html Components, Dash Core Components\n",
    "\n",
    "Inside `chapter_3.py`:\n",
    "\n",
    "Theory:\n",
    "- Dash Hello World\n",
    "- Dropdown\n",
    "- Simple Graph\n",
    "- Slider\n",
    "- Simple Styling\n",
    "\n",
    "Exercise:\n",
    "- Add options\n",
    "- Port plot from prev chapter"
   ]
  },
  {
   "cell_type": "markdown",
   "metadata": {},
   "source": [
    "# Callbacks"
   ]
  },
  {
   "cell_type": "markdown",
   "metadata": {},
   "source": [
    "# Advanced stuff\n",
    "\n",
    "at the end, full working `Poor man's Gapminder`"
   ]
  },
  {
   "cell_type": "markdown",
   "metadata": {},
   "source": [
    "# Finish"
   ]
  }
 ],
 "metadata": {
  "kernelspec": {
   "display_name": "Python 3",
   "language": "python",
   "name": "python3"
  },
  "language_info": {
   "codemirror_mode": {
    "name": "ipython",
    "version": 3
   },
   "file_extension": ".py",
   "mimetype": "text/x-python",
   "name": "python",
   "nbconvert_exporter": "python",
   "pygments_lexer": "ipython3",
   "version": "3.6.5"
  }
 },
 "nbformat": 4,
 "nbformat_minor": 2
}
